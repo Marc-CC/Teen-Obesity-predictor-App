{
 "cells": [
  {
   "cell_type": "markdown",
   "metadata": {},
   "source": [
    "Machine Learning models for obesity risk prediction"
   ]
  },
  {
   "cell_type": "code",
   "execution_count": 1,
   "metadata": {},
   "outputs": [],
   "source": [
    "# Import libraries\n",
    "import numpy as np\n",
    "import pandas as pd\n",
    "import matplotlib.pyplot as plt\n",
    "import tensorflow as tf\n",
    "import seaborn as sns"
   ]
  },
  {
   "cell_type": "code",
   "execution_count": 2,
   "metadata": {},
   "outputs": [],
   "source": [
    "# Load data\n",
    "data = pd.read_csv(\"Data_collection_and_cleaning/processed_data/csv_files/Processed_data.csv\",\n",
    "                   header= 0)"
   ]
  },
  {
   "cell_type": "markdown",
   "metadata": {},
   "source": [
    "Descriptive analysis"
   ]
  },
  {
   "cell_type": "code",
   "execution_count": 3,
   "metadata": {},
   "outputs": [
    {
     "data": {
      "text/html": [
       "<div>\n",
       "<style scoped>\n",
       "    .dataframe tbody tr th:only-of-type {\n",
       "        vertical-align: middle;\n",
       "    }\n",
       "\n",
       "    .dataframe tbody tr th {\n",
       "        vertical-align: top;\n",
       "    }\n",
       "\n",
       "    .dataframe thead th {\n",
       "        text-align: right;\n",
       "    }\n",
       "</style>\n",
       "<table border=\"1\" class=\"dataframe\">\n",
       "  <thead>\n",
       "    <tr style=\"text-align: right;\">\n",
       "      <th></th>\n",
       "      <th>subjid</th>\n",
       "      <th>sex</th>\n",
       "      <th>age_days</th>\n",
       "      <th>age_years</th>\n",
       "      <th>date_of_measurement</th>\n",
       "      <th>height_cm</th>\n",
       "      <th>weight_kg</th>\n",
       "      <th>bmi</th>\n",
       "      <th>zbmi</th>\n",
       "      <th>zbmi_type</th>\n",
       "    </tr>\n",
       "  </thead>\n",
       "  <tbody>\n",
       "    <tr>\n",
       "      <th>0</th>\n",
       "      <td>++7gAwn0opdNQTTFGiAPCgz5uNuQtj3PT0yB</td>\n",
       "      <td>Female</td>\n",
       "      <td>763</td>\n",
       "      <td>2.089023</td>\n",
       "      <td>2015-11-13</td>\n",
       "      <td>87.0</td>\n",
       "      <td>13.2</td>\n",
       "      <td>17.439556</td>\n",
       "      <td>1.24</td>\n",
       "      <td>Overweight</td>\n",
       "    </tr>\n",
       "    <tr>\n",
       "      <th>1</th>\n",
       "      <td>++7gAwn0opdNQTTFGiAPCgz5uNuQtj3PT0yB</td>\n",
       "      <td>Female</td>\n",
       "      <td>1118</td>\n",
       "      <td>3.060980</td>\n",
       "      <td>2016-11-02</td>\n",
       "      <td>96.0</td>\n",
       "      <td>15.9</td>\n",
       "      <td>17.252604</td>\n",
       "      <td>1.30</td>\n",
       "      <td>Overweight</td>\n",
       "    </tr>\n",
       "  </tbody>\n",
       "</table>\n",
       "</div>"
      ],
      "text/plain": [
       "                                 subjid     sex  age_days  age_years  \\\n",
       "0  ++7gAwn0opdNQTTFGiAPCgz5uNuQtj3PT0yB  Female       763   2.089023   \n",
       "1  ++7gAwn0opdNQTTFGiAPCgz5uNuQtj3PT0yB  Female      1118   3.060980   \n",
       "\n",
       "  date_of_measurement  height_cm  weight_kg        bmi  zbmi   zbmi_type  \n",
       "0          2015-11-13       87.0       13.2  17.439556  1.24  Overweight  \n",
       "1          2016-11-02       96.0       15.9  17.252604  1.30  Overweight  "
      ]
     },
     "execution_count": 3,
     "metadata": {},
     "output_type": "execute_result"
    }
   ],
   "source": [
    "data.head(2)"
   ]
  },
  {
   "cell_type": "code",
   "execution_count": 58,
   "metadata": {},
   "outputs": [
    {
     "name": "stdout",
     "output_type": "stream",
     "text": [
      "Number of rows: 95977, Number of columns: 10\n"
     ]
    }
   ],
   "source": [
    "print(f\"Number of rows: {data.shape[0]}, Number of columns: {data.shape[1]}\")"
   ]
  },
  {
   "cell_type": "code",
   "execution_count": 59,
   "metadata": {},
   "outputs": [
    {
     "data": {
      "text/html": [
       "<div>\n",
       "<style scoped>\n",
       "    .dataframe tbody tr th:only-of-type {\n",
       "        vertical-align: middle;\n",
       "    }\n",
       "\n",
       "    .dataframe tbody tr th {\n",
       "        vertical-align: top;\n",
       "    }\n",
       "\n",
       "    .dataframe thead th {\n",
       "        text-align: right;\n",
       "    }\n",
       "</style>\n",
       "<table border=\"1\" class=\"dataframe\">\n",
       "  <thead>\n",
       "    <tr style=\"text-align: right;\">\n",
       "      <th></th>\n",
       "      <th>age_days</th>\n",
       "      <th>age_years</th>\n",
       "      <th>height_cm</th>\n",
       "      <th>weight_kg</th>\n",
       "      <th>bmi</th>\n",
       "      <th>zbmi</th>\n",
       "    </tr>\n",
       "  </thead>\n",
       "  <tbody>\n",
       "    <tr>\n",
       "      <th>count</th>\n",
       "      <td>95977.000000</td>\n",
       "      <td>95977.000000</td>\n",
       "      <td>95977.000000</td>\n",
       "      <td>95977.00000</td>\n",
       "      <td>95977.000000</td>\n",
       "      <td>95977.000000</td>\n",
       "    </tr>\n",
       "    <tr>\n",
       "      <th>mean</th>\n",
       "      <td>1951.170989</td>\n",
       "      <td>5.342125</td>\n",
       "      <td>111.183477</td>\n",
       "      <td>21.88861</td>\n",
       "      <td>16.836618</td>\n",
       "      <td>0.540136</td>\n",
       "    </tr>\n",
       "    <tr>\n",
       "      <th>std</th>\n",
       "      <td>951.657055</td>\n",
       "      <td>2.605549</td>\n",
       "      <td>17.969964</td>\n",
       "      <td>10.20711</td>\n",
       "      <td>2.734057</td>\n",
       "      <td>1.281769</td>\n",
       "    </tr>\n",
       "    <tr>\n",
       "      <th>min</th>\n",
       "      <td>731.000000</td>\n",
       "      <td>2.001410</td>\n",
       "      <td>56.000000</td>\n",
       "      <td>4.75000</td>\n",
       "      <td>9.696841</td>\n",
       "      <td>-5.230000</td>\n",
       "    </tr>\n",
       "    <tr>\n",
       "      <th>25%</th>\n",
       "      <td>1125.000000</td>\n",
       "      <td>3.080145</td>\n",
       "      <td>96.500000</td>\n",
       "      <td>14.80000</td>\n",
       "      <td>15.095763</td>\n",
       "      <td>-0.330000</td>\n",
       "    </tr>\n",
       "    <tr>\n",
       "      <th>50%</th>\n",
       "      <td>1696.000000</td>\n",
       "      <td>4.643490</td>\n",
       "      <td>108.500000</td>\n",
       "      <td>18.70000</td>\n",
       "      <td>16.174885</td>\n",
       "      <td>0.430000</td>\n",
       "    </tr>\n",
       "    <tr>\n",
       "      <th>75%</th>\n",
       "      <td>2540.000000</td>\n",
       "      <td>6.954284</td>\n",
       "      <td>124.000000</td>\n",
       "      <td>26.00000</td>\n",
       "      <td>17.728532</td>\n",
       "      <td>1.310000</td>\n",
       "    </tr>\n",
       "    <tr>\n",
       "      <th>max</th>\n",
       "      <td>5200.000000</td>\n",
       "      <td>14.237116</td>\n",
       "      <td>180.000000</td>\n",
       "      <td>106.50000</td>\n",
       "      <td>38.295657</td>\n",
       "      <td>9.300000</td>\n",
       "    </tr>\n",
       "  </tbody>\n",
       "</table>\n",
       "</div>"
      ],
      "text/plain": [
       "           age_days     age_years     height_cm    weight_kg           bmi  \\\n",
       "count  95977.000000  95977.000000  95977.000000  95977.00000  95977.000000   \n",
       "mean    1951.170989      5.342125    111.183477     21.88861     16.836618   \n",
       "std      951.657055      2.605549     17.969964     10.20711      2.734057   \n",
       "min      731.000000      2.001410     56.000000      4.75000      9.696841   \n",
       "25%     1125.000000      3.080145     96.500000     14.80000     15.095763   \n",
       "50%     1696.000000      4.643490    108.500000     18.70000     16.174885   \n",
       "75%     2540.000000      6.954284    124.000000     26.00000     17.728532   \n",
       "max     5200.000000     14.237116    180.000000    106.50000     38.295657   \n",
       "\n",
       "               zbmi  \n",
       "count  95977.000000  \n",
       "mean       0.540136  \n",
       "std        1.281769  \n",
       "min       -5.230000  \n",
       "25%       -0.330000  \n",
       "50%        0.430000  \n",
       "75%        1.310000  \n",
       "max        9.300000  "
      ]
     },
     "execution_count": 59,
     "metadata": {},
     "output_type": "execute_result"
    }
   ],
   "source": [
    "data.describe()"
   ]
  },
  {
   "cell_type": "code",
   "execution_count": 54,
   "metadata": {},
   "outputs": [
    {
     "data": {
      "text/plain": [
       "subjid                  object\n",
       "sex                     object\n",
       "age_days                 int64\n",
       "age_years              float64\n",
       "date_of_measurement     object\n",
       "height_cm              float64\n",
       "weight_kg              float64\n",
       "bmi                    float64\n",
       "zbmi                   float64\n",
       "zbmi_type               object\n",
       "dtype: object"
      ]
     },
     "execution_count": 54,
     "metadata": {},
     "output_type": "execute_result"
    }
   ],
   "source": [
    "data.dtypes"
   ]
  },
  {
   "cell_type": "code",
   "execution_count": 52,
   "metadata": {},
   "outputs": [
    {
     "data": {
      "image/png": "[encoded data removed]",
      "text/plain": [
       "<Figure size 640x480 with 1 Axes>"
      ]
     },
     "metadata": {},
     "output_type": "display_data"
    }
   ],
   "source": [
    "# Plot number of patients by number of obs\n",
    "n_patients = data.value_counts(\"subjid\")\n",
    "counts = np.bincount(n_patients)\n",
    "n_bins = n_patients.max()\n",
    "labels = range(n_bins+1)\n",
    "\n",
    "fig, ax = plt.subplots()\n",
    "ax.bar(labels, counts, width= 0.9, align= 'center')\n",
    "\n",
    "ax.set(xticks= labels, xlim= [0, n_bins+1], ylim= [0, 9000])\n",
    "ax.bar_label(ax.bar(labels, counts, width= 0.9, align= 'center'),\n",
    "             counts, rotation= 60, fontsize= 7)\n",
    "ax.set_title(\"Distribution count of the number of observations per patient\")\n",
    "ax.set_ylabel(\"Patients count\")\n",
    "ax.set_xlabel(\"Number of observations\")\n",
    "\n",
    "plt.show()"
   ]
  },
  {
   "cell_type": "code",
   "execution_count": 66,
   "metadata": {},
   "outputs": [
    {
     "data": {
      "text/plain": [
       "subjid                 0\n",
       "sex                    0\n",
       "age_days               0\n",
       "age_years              0\n",
       "date_of_measurement    0\n",
       "height_cm              0\n",
       "weight_kg              0\n",
       "bmi                    0\n",
       "zbmi                   0\n",
       "zbmi_type              0\n",
       "dtype: int64"
      ]
     },
     "execution_count": 66,
     "metadata": {},
     "output_type": "execute_result"
    }
   ],
   "source": [
    "# Check NA count\n",
    "data.isna().sum()"
   ]
  },
  {
   "cell_type": "code",
   "execution_count": null,
   "metadata": {},
   "outputs": [
    {
     "data": {
      "text/plain": [
       "4.6434902838525085"
      ]
     },
     "execution_count": 74,
     "metadata": {},
     "output_type": "execute_result"
    }
   ],
   "source": [
    "data.groupby(\"subjid\").value_counts()"
   ]
  }
 ],
 "metadata": {
  "kernelspec": {
   "display_name": "tfm_ml",
   "language": "python",
   "name": "python3"
  },
  "language_info": {
   "codemirror_mode": {
    "name": "ipython",
    "version": 3
   },
   "file_extension": ".py",
   "mimetype": "text/x-python",
   "name": "python",
   "nbconvert_exporter": "python",
   "pygments_lexer": "ipython3",
   "version": "3.10.13"
  }
 },
 "nbformat": 4,
 "nbformat_minor": 2
}
